{
 "cells": [
  {
   "cell_type": "code",
   "execution_count": 1,
   "metadata": {
    "collapsed": true
   },
   "outputs": [],
   "source": [
    "import pandas as pd\n",
    "import numpy as np\n",
    "import scipy\n",
    "import matplotlib.pyplot as plt"
   ]
  },
  {
   "cell_type": "code",
   "execution_count": 17,
   "metadata": {
    "collapsed": false
   },
   "outputs": [
    {
     "name": "stdout",
     "output_type": "stream",
     "text": [
      "total transaction number 3076711\n",
      "number of user-item pairs 329899\n",
      "total Items in training 20350\n",
      "total users in training 2485\n",
      "customer category number 64\n",
      "item ategory number 3235\n"
     ]
    }
   ],
   "source": [
    "#input file\n",
    "df=pd.read_csv(r\"/Users/xchen2/Documents/sysco_folder/Sysco Case Study/Sales Transactions - 2014.csv\")\n",
    "df2=pd.read_csv(r\"/Users/xchen2/Documents/sysco_folder/Sysco Case Study/Sales Transactions - 2015.csv\")\n",
    "frames = [df,df2]\n",
    "whole_pd = pd.concat(frames)\n",
    "print 'total transaction number',whole_pd.shape[0]\n",
    "\n",
    "#add a column for each transcation and count the number of transcation for each customer and each item\n",
    "whole_pd['rates']=whole_pd['Customer Number'].map(lambda x: 1 )\n",
    "group_pd=whole_pd.groupby(by=['Customer Number','Item Number'])['rates'].sum()\n",
    "print 'number of user-item pairs',len(group_pd)\n",
    "\n",
    "ItemIDs= whole_pd['Item Number'].unique()\n",
    "userIDs = whole_pd['Customer Number'].unique()\n",
    "\n",
    "print 'total Items in training',len(ItemIDs)\n",
    "print 'total users in training',len(userIDs)\n",
    "\n",
    "category_name = whole_pd['NPD Sysco Segmentation'].unique()\n",
    "print 'customer category number',len(category_name)\n",
    "\n",
    "item_category_name = whole_pd['CMIM Id'].unique()\n",
    "print 'item category number',len(item_category_name)"
   ]
  },
  {
   "cell_type": "code",
   "execution_count": 13,
   "metadata": {
    "collapsed": false
   },
   "outputs": [
    {
     "data": {
      "image/png": "[encoded data removed]",
      "text/plain": [
       "<matplotlib.figure.Figure at 0x114cf8d50>"
      ]
     },
     "metadata": {},
     "output_type": "display_data"
    }
   ],
   "source": [
    "#examine the distribution of transcation time for each item for each user\n",
    "all_values = group_pd.get_values()\n",
    "plt.hist(all_values,20)\n",
    "plt.xlabel('Number of transactions ')\n",
    "plt.ylabel('Number of customer-item pairs')\n",
    "plt.show()"
   ]
  },
  {
   "cell_type": "code",
   "execution_count": 19,
   "metadata": {
    "collapsed": false
   },
   "outputs": [
    {
     "name": "stdout",
     "output_type": "stream",
     "text": [
      "total transaction in test 1548497\n",
      "total customer in test 1991\n",
      "total item in test 15295\n",
      "new item in test 3673\n",
      "new user in test 473\n"
     ]
    }
   ],
   "source": [
    "#examine test data\n",
    "\n",
    "test_df=pd.read_csv(r\"/Users/xchen2/Documents/sysco_folder/Sysco Case Study/Sales Transactions - 2016.csv\")\n",
    "test_df['rates']=test_df['Customer Number'].map(lambda x: 1 )\n",
    "group_test_pd=test_df.groupby(by=['Customer Number','Item Number'])['rates'].sum()\n",
    "test_customerIDs = test_df['Customer Number'].unique()\n",
    "test_itemIDs = test_df['Item Number'].unique()\n",
    "new_customerIDs = list(set(test_customerIDs)-set(userIDs))\n",
    "print 'total transaction in test',test_df.shape[0]\n",
    "print 'total customer in test',len(test_customerIDs)\n",
    "print 'total item in test',len(test_itemIDs)\n",
    "print 'new item in test',len(set(test_itemIDs)-set(ItemIDs))\n",
    "print 'new user in test',len(new_customerIDs)"
   ]
  }
 ],
 "metadata": {
  "kernelspec": {
   "display_name": "Python [default]",
   "language": "python",
   "name": "python2"
  },
  "language_info": {
   "codemirror_mode": {
    "name": "ipython",
    "version": 2
   },
   "file_extension": ".py",
   "mimetype": "text/x-python",
   "name": "python",
   "nbconvert_exporter": "python",
   "pygments_lexer": "ipython2",
   "version": "2.7.12"
  }
 },
 "nbformat": 4,
 "nbformat_minor": 1
}
